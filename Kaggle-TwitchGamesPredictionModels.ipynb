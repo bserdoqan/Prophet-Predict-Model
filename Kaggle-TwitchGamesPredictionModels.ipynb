{
 "cells": [
  {
   "cell_type": "code",
   "execution_count": 1,
   "metadata": {},
   "outputs": [],
   "source": [
    "import pandas as pd\n",
    "import numpy as np\n",
    "import seaborn as sns\n",
    "from pandas.api.types import CategoricalDtype\n",
    "from scipy.stats import shapiro\n",
    "from scipy.stats import stats\n",
    "from datetime import datetime\n",
    "pd.set_option('display.float_format', lambda x: '%.3f' % x)\n",
    "import warnings\n",
    "warnings.filterwarnings('ignore')\n",
    "from fbprophet import Prophet"
   ]
  },
  {
   "cell_type": "code",
   "execution_count": 2,
   "metadata": {},
   "outputs": [],
   "source": [
    "twitchdata = pd.read_csv(\"Twitch_game_data.csv\")"
   ]
  },
  {
   "cell_type": "code",
   "execution_count": 3,
   "metadata": {},
   "outputs": [],
   "source": [
    "df = twitchdata.copy()"
   ]
  },
  {
   "cell_type": "code",
   "execution_count": 4,
   "metadata": {},
   "outputs": [
    {
     "data": {
      "text/html": [
       "<div>\n",
       "<style scoped>\n",
       "    .dataframe tbody tr th:only-of-type {\n",
       "        vertical-align: middle;\n",
       "    }\n",
       "\n",
       "    .dataframe tbody tr th {\n",
       "        vertical-align: top;\n",
       "    }\n",
       "\n",
       "    .dataframe thead th {\n",
       "        text-align: right;\n",
       "    }\n",
       "</style>\n",
       "<table border=\"1\" class=\"dataframe\">\n",
       "  <thead>\n",
       "    <tr style=\"text-align: right;\">\n",
       "      <th></th>\n",
       "      <th>Rank</th>\n",
       "      <th>Game</th>\n",
       "      <th>Month</th>\n",
       "      <th>Year</th>\n",
       "      <th>Hours_watched</th>\n",
       "      <th>Hours_Streamed</th>\n",
       "      <th>Peak_viewers</th>\n",
       "      <th>Peak_channels</th>\n",
       "      <th>Streamers</th>\n",
       "      <th>Avg_viewers</th>\n",
       "      <th>Avg_channels</th>\n",
       "      <th>Avg_viewer_ratio</th>\n",
       "    </tr>\n",
       "  </thead>\n",
       "  <tbody>\n",
       "    <tr>\n",
       "      <th>0</th>\n",
       "      <td>1</td>\n",
       "      <td>League of Legends</td>\n",
       "      <td>1</td>\n",
       "      <td>2016</td>\n",
       "      <td>94377226</td>\n",
       "      <td>1362044 hours</td>\n",
       "      <td>530270</td>\n",
       "      <td>2903</td>\n",
       "      <td>129172</td>\n",
       "      <td>127021</td>\n",
       "      <td>1833</td>\n",
       "      <td>69.290</td>\n",
       "    </tr>\n",
       "    <tr>\n",
       "      <th>1</th>\n",
       "      <td>2</td>\n",
       "      <td>Counter-Strike: Global Offensive</td>\n",
       "      <td>1</td>\n",
       "      <td>2016</td>\n",
       "      <td>47832863</td>\n",
       "      <td>830105 hours</td>\n",
       "      <td>372654</td>\n",
       "      <td>2197</td>\n",
       "      <td>120849</td>\n",
       "      <td>64378</td>\n",
       "      <td>1117</td>\n",
       "      <td>57.620</td>\n",
       "    </tr>\n",
       "    <tr>\n",
       "      <th>2</th>\n",
       "      <td>3</td>\n",
       "      <td>Dota 2</td>\n",
       "      <td>1</td>\n",
       "      <td>2016</td>\n",
       "      <td>45185893</td>\n",
       "      <td>433397 hours</td>\n",
       "      <td>315083</td>\n",
       "      <td>1100</td>\n",
       "      <td>44074</td>\n",
       "      <td>60815</td>\n",
       "      <td>583</td>\n",
       "      <td>104.260</td>\n",
       "    </tr>\n",
       "    <tr>\n",
       "      <th>3</th>\n",
       "      <td>4</td>\n",
       "      <td>Hearthstone</td>\n",
       "      <td>1</td>\n",
       "      <td>2016</td>\n",
       "      <td>39936159</td>\n",
       "      <td>235903 hours</td>\n",
       "      <td>131357</td>\n",
       "      <td>517</td>\n",
       "      <td>36170</td>\n",
       "      <td>53749</td>\n",
       "      <td>317</td>\n",
       "      <td>169.290</td>\n",
       "    </tr>\n",
       "    <tr>\n",
       "      <th>4</th>\n",
       "      <td>5</td>\n",
       "      <td>Call of Duty: Black Ops III</td>\n",
       "      <td>1</td>\n",
       "      <td>2016</td>\n",
       "      <td>16153057</td>\n",
       "      <td>1151578 hours</td>\n",
       "      <td>71639</td>\n",
       "      <td>3620</td>\n",
       "      <td>214054</td>\n",
       "      <td>21740</td>\n",
       "      <td>1549</td>\n",
       "      <td>14.030</td>\n",
       "    </tr>\n",
       "  </tbody>\n",
       "</table>\n",
       "</div>"
      ],
      "text/plain": [
       "   Rank                              Game  Month  Year  Hours_watched  \\\n",
       "0     1                 League of Legends      1  2016       94377226   \n",
       "1     2  Counter-Strike: Global Offensive      1  2016       47832863   \n",
       "2     3                            Dota 2      1  2016       45185893   \n",
       "3     4                       Hearthstone      1  2016       39936159   \n",
       "4     5       Call of Duty: Black Ops III      1  2016       16153057   \n",
       "\n",
       "  Hours_Streamed  Peak_viewers  Peak_channels  Streamers  Avg_viewers  \\\n",
       "0  1362044 hours        530270           2903     129172       127021   \n",
       "1   830105 hours        372654           2197     120849        64378   \n",
       "2   433397 hours        315083           1100      44074        60815   \n",
       "3   235903 hours        131357            517      36170        53749   \n",
       "4  1151578 hours         71639           3620     214054        21740   \n",
       "\n",
       "   Avg_channels  Avg_viewer_ratio  \n",
       "0          1833            69.290  \n",
       "1          1117            57.620  \n",
       "2           583           104.260  \n",
       "3           317           169.290  \n",
       "4          1549            14.030  "
      ]
     },
     "execution_count": 4,
     "metadata": {},
     "output_type": "execute_result"
    }
   ],
   "source": [
    "df.head()"
   ]
  },
  {
   "cell_type": "code",
   "execution_count": 5,
   "metadata": {},
   "outputs": [
    {
     "data": {
      "text/html": [
       "<div>\n",
       "<style scoped>\n",
       "    .dataframe tbody tr th:only-of-type {\n",
       "        vertical-align: middle;\n",
       "    }\n",
       "\n",
       "    .dataframe tbody tr th {\n",
       "        vertical-align: top;\n",
       "    }\n",
       "\n",
       "    .dataframe thead th {\n",
       "        text-align: right;\n",
       "    }\n",
       "</style>\n",
       "<table border=\"1\" class=\"dataframe\">\n",
       "  <thead>\n",
       "    <tr style=\"text-align: right;\">\n",
       "      <th></th>\n",
       "      <th>Rank</th>\n",
       "      <th>Game</th>\n",
       "      <th>Month</th>\n",
       "      <th>Year</th>\n",
       "      <th>Hours_watched</th>\n",
       "      <th>Hours_Streamed</th>\n",
       "      <th>Peak_viewers</th>\n",
       "      <th>Peak_channels</th>\n",
       "      <th>Streamers</th>\n",
       "      <th>Avg_viewers</th>\n",
       "      <th>Avg_channels</th>\n",
       "      <th>Avg_viewer_ratio</th>\n",
       "    </tr>\n",
       "  </thead>\n",
       "  <tbody>\n",
       "    <tr>\n",
       "      <th>12745</th>\n",
       "      <td>196</td>\n",
       "      <td>Cuphead</td>\n",
       "      <td>4</td>\n",
       "      <td>2021</td>\n",
       "      <td>795329</td>\n",
       "      <td>31721 hours</td>\n",
       "      <td>90364</td>\n",
       "      <td>98</td>\n",
       "      <td>7795</td>\n",
       "      <td>1106</td>\n",
       "      <td>44</td>\n",
       "      <td>25.070</td>\n",
       "    </tr>\n",
       "    <tr>\n",
       "      <th>12746</th>\n",
       "      <td>197</td>\n",
       "      <td>Hades</td>\n",
       "      <td>4</td>\n",
       "      <td>2021</td>\n",
       "      <td>794472</td>\n",
       "      <td>52755 hours</td>\n",
       "      <td>36447</td>\n",
       "      <td>152</td>\n",
       "      <td>8663</td>\n",
       "      <td>1104</td>\n",
       "      <td>73</td>\n",
       "      <td>15.060</td>\n",
       "    </tr>\n",
       "    <tr>\n",
       "      <th>12747</th>\n",
       "      <td>198</td>\n",
       "      <td>Epic Seven</td>\n",
       "      <td>4</td>\n",
       "      <td>2021</td>\n",
       "      <td>778750</td>\n",
       "      <td>18362 hours</td>\n",
       "      <td>11670</td>\n",
       "      <td>47</td>\n",
       "      <td>997</td>\n",
       "      <td>1083</td>\n",
       "      <td>25</td>\n",
       "      <td>42.410</td>\n",
       "    </tr>\n",
       "    <tr>\n",
       "      <th>12748</th>\n",
       "      <td>199</td>\n",
       "      <td>Pok&lt;U+00E9&gt;mon Platinum</td>\n",
       "      <td>4</td>\n",
       "      <td>2021</td>\n",
       "      <td>777305</td>\n",
       "      <td>22380 hours</td>\n",
       "      <td>61580</td>\n",
       "      <td>76</td>\n",
       "      <td>2837</td>\n",
       "      <td>1081</td>\n",
       "      <td>31</td>\n",
       "      <td>34.730</td>\n",
       "    </tr>\n",
       "    <tr>\n",
       "      <th>12749</th>\n",
       "      <td>200</td>\n",
       "      <td>Farming Simulator 19</td>\n",
       "      <td>4</td>\n",
       "      <td>2021</td>\n",
       "      <td>771697</td>\n",
       "      <td>91602 hours</td>\n",
       "      <td>11019</td>\n",
       "      <td>319</td>\n",
       "      <td>7942</td>\n",
       "      <td>1073</td>\n",
       "      <td>127</td>\n",
       "      <td>8.420</td>\n",
       "    </tr>\n",
       "  </tbody>\n",
       "</table>\n",
       "</div>"
      ],
      "text/plain": [
       "       Rank                     Game  Month  Year  Hours_watched  \\\n",
       "12745   196                  Cuphead      4  2021         795329   \n",
       "12746   197                    Hades      4  2021         794472   \n",
       "12747   198               Epic Seven      4  2021         778750   \n",
       "12748   199  Pok<U+00E9>mon Platinum      4  2021         777305   \n",
       "12749   200     Farming Simulator 19      4  2021         771697   \n",
       "\n",
       "      Hours_Streamed  Peak_viewers  Peak_channels  Streamers  Avg_viewers  \\\n",
       "12745    31721 hours         90364             98       7795         1106   \n",
       "12746    52755 hours         36447            152       8663         1104   \n",
       "12747    18362 hours         11670             47        997         1083   \n",
       "12748    22380 hours         61580             76       2837         1081   \n",
       "12749    91602 hours         11019            319       7942         1073   \n",
       "\n",
       "       Avg_channels  Avg_viewer_ratio  \n",
       "12745            44            25.070  \n",
       "12746            73            15.060  \n",
       "12747            25            42.410  \n",
       "12748            31            34.730  \n",
       "12749           127             8.420  "
      ]
     },
     "execution_count": 5,
     "metadata": {},
     "output_type": "execute_result"
    }
   ],
   "source": [
    "df.tail()"
   ]
  },
  {
   "cell_type": "code",
   "execution_count": 6,
   "metadata": {},
   "outputs": [
    {
     "data": {
      "text/plain": [
       "(12750, 12)"
      ]
     },
     "execution_count": 6,
     "metadata": {},
     "output_type": "execute_result"
    }
   ],
   "source": [
    "df.shape"
   ]
  },
  {
   "cell_type": "code",
   "execution_count": 7,
   "metadata": {},
   "outputs": [
    {
     "data": {
      "text/plain": [
       "Rank                  int64\n",
       "Game                 object\n",
       "Month                 int64\n",
       "Year                  int64\n",
       "Hours_watched         int64\n",
       "Hours_Streamed       object\n",
       "Peak_viewers          int64\n",
       "Peak_channels         int64\n",
       "Streamers             int64\n",
       "Avg_viewers           int64\n",
       "Avg_channels          int64\n",
       "Avg_viewer_ratio    float64\n",
       "dtype: object"
      ]
     },
     "execution_count": 7,
     "metadata": {},
     "output_type": "execute_result"
    }
   ],
   "source": [
    "df.dtypes"
   ]
  },
  {
   "cell_type": "code",
   "execution_count": 8,
   "metadata": {},
   "outputs": [
    {
     "data": {
      "text/plain": [
       "Rank                0\n",
       "Game                1\n",
       "Month               0\n",
       "Year                0\n",
       "Hours_watched       0\n",
       "Hours_Streamed      0\n",
       "Peak_viewers        0\n",
       "Peak_channels       0\n",
       "Streamers           0\n",
       "Avg_viewers         0\n",
       "Avg_channels        0\n",
       "Avg_viewer_ratio    0\n",
       "dtype: int64"
      ]
     },
     "execution_count": 8,
     "metadata": {},
     "output_type": "execute_result"
    }
   ],
   "source": [
    "df.isnull().sum()"
   ]
  },
  {
   "cell_type": "code",
   "execution_count": 9,
   "metadata": {},
   "outputs": [],
   "source": [
    "df.dropna(inplace = True)"
   ]
  },
  {
   "cell_type": "code",
   "execution_count": 10,
   "metadata": {},
   "outputs": [],
   "source": [
    "df.Year = df.Year.astype(CategoricalDtype(ordered = True))\n",
    "df.Month = df.Month.astype(CategoricalDtype(ordered = True))"
   ]
  },
  {
   "cell_type": "code",
   "execution_count": 11,
   "metadata": {},
   "outputs": [
    {
     "data": {
      "text/html": [
       "<div>\n",
       "<style scoped>\n",
       "    .dataframe tbody tr th:only-of-type {\n",
       "        vertical-align: middle;\n",
       "    }\n",
       "\n",
       "    .dataframe tbody tr th {\n",
       "        vertical-align: top;\n",
       "    }\n",
       "\n",
       "    .dataframe thead th {\n",
       "        text-align: right;\n",
       "    }\n",
       "</style>\n",
       "<table border=\"1\" class=\"dataframe\">\n",
       "  <thead>\n",
       "    <tr style=\"text-align: right;\">\n",
       "      <th></th>\n",
       "      <th>count</th>\n",
       "      <th>mean</th>\n",
       "      <th>std</th>\n",
       "      <th>min</th>\n",
       "      <th>25%</th>\n",
       "      <th>50%</th>\n",
       "      <th>75%</th>\n",
       "      <th>max</th>\n",
       "    </tr>\n",
       "  </thead>\n",
       "  <tbody>\n",
       "    <tr>\n",
       "      <th>Rank</th>\n",
       "      <td>12749.000</td>\n",
       "      <td>100.593</td>\n",
       "      <td>57.821</td>\n",
       "      <td>1.000</td>\n",
       "      <td>50.000</td>\n",
       "      <td>101.000</td>\n",
       "      <td>151.000</td>\n",
       "      <td>200.000</td>\n",
       "    </tr>\n",
       "    <tr>\n",
       "      <th>Hours_watched</th>\n",
       "      <td>12749.000</td>\n",
       "      <td>4276021.378</td>\n",
       "      <td>15068334.875</td>\n",
       "      <td>89811.000</td>\n",
       "      <td>332588.000</td>\n",
       "      <td>718122.000</td>\n",
       "      <td>1975274.000</td>\n",
       "      <td>344551979.000</td>\n",
       "    </tr>\n",
       "    <tr>\n",
       "      <th>Peak_viewers</th>\n",
       "      <td>12749.000</td>\n",
       "      <td>49663.769</td>\n",
       "      <td>118288.654</td>\n",
       "      <td>441.000</td>\n",
       "      <td>7656.000</td>\n",
       "      <td>18349.000</td>\n",
       "      <td>41709.000</td>\n",
       "      <td>3123208.000</td>\n",
       "    </tr>\n",
       "    <tr>\n",
       "      <th>Peak_channels</th>\n",
       "      <td>12749.000</td>\n",
       "      <td>525.179</td>\n",
       "      <td>2543.382</td>\n",
       "      <td>1.000</td>\n",
       "      <td>47.000</td>\n",
       "      <td>109.000</td>\n",
       "      <td>286.000</td>\n",
       "      <td>129860.000</td>\n",
       "    </tr>\n",
       "    <tr>\n",
       "      <th>Streamers</th>\n",
       "      <td>12749.000</td>\n",
       "      <td>16072.632</td>\n",
       "      <td>53542.644</td>\n",
       "      <td>0.000</td>\n",
       "      <td>1345.000</td>\n",
       "      <td>3767.000</td>\n",
       "      <td>9889.000</td>\n",
       "      <td>1013029.000</td>\n",
       "    </tr>\n",
       "    <tr>\n",
       "      <th>Avg_viewers</th>\n",
       "      <td>12749.000</td>\n",
       "      <td>5869.388</td>\n",
       "      <td>20709.796</td>\n",
       "      <td>120.000</td>\n",
       "      <td>456.000</td>\n",
       "      <td>982.000</td>\n",
       "      <td>2716.000</td>\n",
       "      <td>479209.000</td>\n",
       "    </tr>\n",
       "    <tr>\n",
       "      <th>Avg_channels</th>\n",
       "      <td>12749.000</td>\n",
       "      <td>194.272</td>\n",
       "      <td>720.292</td>\n",
       "      <td>0.000</td>\n",
       "      <td>15.000</td>\n",
       "      <td>38.000</td>\n",
       "      <td>108.000</td>\n",
       "      <td>13789.000</td>\n",
       "    </tr>\n",
       "    <tr>\n",
       "      <th>Avg_viewer_ratio</th>\n",
       "      <td>12749.000</td>\n",
       "      <td>84.364</td>\n",
       "      <td>379.366</td>\n",
       "      <td>2.270</td>\n",
       "      <td>15.960</td>\n",
       "      <td>29.070</td>\n",
       "      <td>58.100</td>\n",
       "      <td>13601.870</td>\n",
       "    </tr>\n",
       "  </tbody>\n",
       "</table>\n",
       "</div>"
      ],
      "text/plain": [
       "                     count        mean          std       min        25%  \\\n",
       "Rank             12749.000     100.593       57.821     1.000     50.000   \n",
       "Hours_watched    12749.000 4276021.378 15068334.875 89811.000 332588.000   \n",
       "Peak_viewers     12749.000   49663.769   118288.654   441.000   7656.000   \n",
       "Peak_channels    12749.000     525.179     2543.382     1.000     47.000   \n",
       "Streamers        12749.000   16072.632    53542.644     0.000   1345.000   \n",
       "Avg_viewers      12749.000    5869.388    20709.796   120.000    456.000   \n",
       "Avg_channels     12749.000     194.272      720.292     0.000     15.000   \n",
       "Avg_viewer_ratio 12749.000      84.364      379.366     2.270     15.960   \n",
       "\n",
       "                        50%         75%           max  \n",
       "Rank                101.000     151.000       200.000  \n",
       "Hours_watched    718122.000 1975274.000 344551979.000  \n",
       "Peak_viewers      18349.000   41709.000   3123208.000  \n",
       "Peak_channels       109.000     286.000    129860.000  \n",
       "Streamers          3767.000    9889.000   1013029.000  \n",
       "Avg_viewers         982.000    2716.000    479209.000  \n",
       "Avg_channels         38.000     108.000     13789.000  \n",
       "Avg_viewer_ratio     29.070      58.100     13601.870  "
      ]
     },
     "execution_count": 11,
     "metadata": {},
     "output_type": "execute_result"
    }
   ],
   "source": [
    "df.describe().T"
   ]
  },
  {
   "cell_type": "code",
   "execution_count": 12,
   "metadata": {},
   "outputs": [
    {
     "data": {
      "text/plain": [
       "1639"
      ]
     },
     "execution_count": 12,
     "metadata": {},
     "output_type": "execute_result"
    }
   ],
   "source": [
    "df[\"Game\"].value_counts().count()"
   ]
  },
  {
   "cell_type": "code",
   "execution_count": 13,
   "metadata": {},
   "outputs": [
    {
     "data": {
      "text/plain": [
       "2020    2400\n",
       "2018    2400\n",
       "2017    2400\n",
       "2019    2399\n",
       "2016    2350\n",
       "2021     800\n",
       "Name: Year, dtype: int64"
      ]
     },
     "execution_count": 13,
     "metadata": {},
     "output_type": "execute_result"
    }
   ],
   "source": [
    "df[\"Year\"].value_counts()"
   ]
  },
  {
   "cell_type": "code",
   "execution_count": 14,
   "metadata": {},
   "outputs": [
    {
     "data": {
      "text/html": [
       "<div>\n",
       "<style scoped>\n",
       "    .dataframe tbody tr th:only-of-type {\n",
       "        vertical-align: middle;\n",
       "    }\n",
       "\n",
       "    .dataframe tbody tr th {\n",
       "        vertical-align: top;\n",
       "    }\n",
       "\n",
       "    .dataframe thead th {\n",
       "        text-align: right;\n",
       "    }\n",
       "</style>\n",
       "<table border=\"1\" class=\"dataframe\">\n",
       "  <thead>\n",
       "    <tr style=\"text-align: right;\">\n",
       "      <th></th>\n",
       "      <th>Rank</th>\n",
       "      <th>Hours_watched</th>\n",
       "      <th>Peak_viewers</th>\n",
       "      <th>Peak_channels</th>\n",
       "      <th>Streamers</th>\n",
       "      <th>Avg_viewers</th>\n",
       "      <th>Avg_channels</th>\n",
       "      <th>Avg_viewer_ratio</th>\n",
       "    </tr>\n",
       "  </thead>\n",
       "  <tbody>\n",
       "    <tr>\n",
       "      <th>Rank</th>\n",
       "      <td>1.000</td>\n",
       "      <td>-0.390</td>\n",
       "      <td>-0.346</td>\n",
       "      <td>-0.251</td>\n",
       "      <td>-0.354</td>\n",
       "      <td>-0.390</td>\n",
       "      <td>-0.339</td>\n",
       "      <td>0.072</td>\n",
       "    </tr>\n",
       "    <tr>\n",
       "      <th>Hours_watched</th>\n",
       "      <td>-0.390</td>\n",
       "      <td>1.000</td>\n",
       "      <td>0.734</td>\n",
       "      <td>0.547</td>\n",
       "      <td>0.758</td>\n",
       "      <td>1.000</td>\n",
       "      <td>0.767</td>\n",
       "      <td>-0.019</td>\n",
       "    </tr>\n",
       "    <tr>\n",
       "      <th>Peak_viewers</th>\n",
       "      <td>-0.346</td>\n",
       "      <td>0.734</td>\n",
       "      <td>1.000</td>\n",
       "      <td>0.560</td>\n",
       "      <td>0.588</td>\n",
       "      <td>0.732</td>\n",
       "      <td>0.582</td>\n",
       "      <td>0.066</td>\n",
       "    </tr>\n",
       "    <tr>\n",
       "      <th>Peak_channels</th>\n",
       "      <td>-0.251</td>\n",
       "      <td>0.547</td>\n",
       "      <td>0.560</td>\n",
       "      <td>1.000</td>\n",
       "      <td>0.756</td>\n",
       "      <td>0.547</td>\n",
       "      <td>0.798</td>\n",
       "      <td>-0.028</td>\n",
       "    </tr>\n",
       "    <tr>\n",
       "      <th>Streamers</th>\n",
       "      <td>-0.354</td>\n",
       "      <td>0.758</td>\n",
       "      <td>0.588</td>\n",
       "      <td>0.756</td>\n",
       "      <td>1.000</td>\n",
       "      <td>0.757</td>\n",
       "      <td>0.962</td>\n",
       "      <td>-0.043</td>\n",
       "    </tr>\n",
       "    <tr>\n",
       "      <th>Avg_viewers</th>\n",
       "      <td>-0.390</td>\n",
       "      <td>1.000</td>\n",
       "      <td>0.732</td>\n",
       "      <td>0.547</td>\n",
       "      <td>0.757</td>\n",
       "      <td>1.000</td>\n",
       "      <td>0.766</td>\n",
       "      <td>-0.019</td>\n",
       "    </tr>\n",
       "    <tr>\n",
       "      <th>Avg_channels</th>\n",
       "      <td>-0.339</td>\n",
       "      <td>0.767</td>\n",
       "      <td>0.582</td>\n",
       "      <td>0.798</td>\n",
       "      <td>0.962</td>\n",
       "      <td>0.766</td>\n",
       "      <td>1.000</td>\n",
       "      <td>-0.039</td>\n",
       "    </tr>\n",
       "    <tr>\n",
       "      <th>Avg_viewer_ratio</th>\n",
       "      <td>0.072</td>\n",
       "      <td>-0.019</td>\n",
       "      <td>0.066</td>\n",
       "      <td>-0.028</td>\n",
       "      <td>-0.043</td>\n",
       "      <td>-0.019</td>\n",
       "      <td>-0.039</td>\n",
       "      <td>1.000</td>\n",
       "    </tr>\n",
       "  </tbody>\n",
       "</table>\n",
       "</div>"
      ],
      "text/plain": [
       "                   Rank  Hours_watched  Peak_viewers  Peak_channels  \\\n",
       "Rank              1.000         -0.390        -0.346         -0.251   \n",
       "Hours_watched    -0.390          1.000         0.734          0.547   \n",
       "Peak_viewers     -0.346          0.734         1.000          0.560   \n",
       "Peak_channels    -0.251          0.547         0.560          1.000   \n",
       "Streamers        -0.354          0.758         0.588          0.756   \n",
       "Avg_viewers      -0.390          1.000         0.732          0.547   \n",
       "Avg_channels     -0.339          0.767         0.582          0.798   \n",
       "Avg_viewer_ratio  0.072         -0.019         0.066         -0.028   \n",
       "\n",
       "                  Streamers  Avg_viewers  Avg_channels  Avg_viewer_ratio  \n",
       "Rank                 -0.354       -0.390        -0.339             0.072  \n",
       "Hours_watched         0.758        1.000         0.767            -0.019  \n",
       "Peak_viewers          0.588        0.732         0.582             0.066  \n",
       "Peak_channels         0.756        0.547         0.798            -0.028  \n",
       "Streamers             1.000        0.757         0.962            -0.043  \n",
       "Avg_viewers           0.757        1.000         0.766            -0.019  \n",
       "Avg_channels          0.962        0.766         1.000            -0.039  \n",
       "Avg_viewer_ratio     -0.043       -0.019        -0.039             1.000  "
      ]
     },
     "execution_count": 14,
     "metadata": {},
     "output_type": "execute_result"
    }
   ],
   "source": [
    "df.corr()"
   ]
  },
  {
   "cell_type": "code",
   "execution_count": 15,
   "metadata": {},
   "outputs": [
    {
     "data": {
      "image/png": "[encoded data removed]",
      "text/plain": [
       "<Figure size 432x288 with 1 Axes>"
      ]
     },
     "metadata": {
      "needs_background": "light"
     },
     "output_type": "display_data"
    }
   ],
   "source": [
    "sns.scatterplot(x = \"Avg_viewers\", y = \"Streamers\", \n",
    "                hue = \"Year\", \n",
    "                data = df);"
   ]
  },
  {
   "cell_type": "code",
   "execution_count": 16,
   "metadata": {},
   "outputs": [
    {
     "data": {
      "image/png": "[encoded data removed]",
      "text/plain": [
       "<Figure size 432x432 with 3 Axes>"
      ]
     },
     "metadata": {
      "needs_background": "light"
     },
     "output_type": "display_data"
    }
   ],
   "source": [
    "sns.jointplot(x = \"Streamers\" , y = \"Avg_viewers\" ,\n",
    "              color = \"g\" , \n",
    "              kind = \"reg\" ,\n",
    "              data = df);"
   ]
  },
  {
   "cell_type": "code",
   "execution_count": 17,
   "metadata": {},
   "outputs": [
    {
     "data": {
      "image/png": "[encoded data removed]",
      "text/plain": [
       "<Figure size 432x432 with 3 Axes>"
      ]
     },
     "metadata": {
      "needs_background": "light"
     },
     "output_type": "display_data"
    }
   ],
   "source": [
    "sns.jointplot(x = \"Peak_viewers\", y = \"Peak_channels\", \n",
    "              color = \"g\" , \n",
    "              kind = \"reg\" ,\n",
    "              data = df);"
   ]
  },
  {
   "cell_type": "code",
   "execution_count": 18,
   "metadata": {},
   "outputs": [
    {
     "name": "stdout",
     "output_type": "stream",
     "text": [
      "Test Statistics for Streamers = 0.2655, p-value = 0.0000\n",
      "Test Statistics for Avg_viewers = 0.2655, p-value = 0.0000\n",
      "Test Statistics for Peak_viewers = 0.3557, p-value = 0.0000\n",
      "Test Statistics for Peak_channels= 0.1452, p-value = 0.0000\n"
     ]
    }
   ],
   "source": [
    "test_statistics, pvalue = shapiro(df[\"Streamers\"])\n",
    "print('Test Statistics for Streamers = %.4f, p-value = %.4f' % (test_statistics, pvalue));\n",
    "test_istatistigi, pvalue = shapiro(df[\"Avg_viewers\"])\n",
    "print('Test Statistics for Avg_viewers = %.4f, p-value = %.4f' % (test_statistics, pvalue));\n",
    "test_statistics, pvalue = shapiro(df[\"Peak_viewers\"])\n",
    "print('Test Statistics for Peak_viewers = %.4f, p-value = %.4f' % (test_statistics, pvalue));\n",
    "test_statistics, pvalue = shapiro(df[\"Peak_channels\"])\n",
    "print('Test Statistics for Peak_channels= %.4f, p-value = %.4f' % (test_statistics, pvalue));"
   ]
  },
  {
   "cell_type": "code",
   "execution_count": 19,
   "metadata": {},
   "outputs": [
    {
     "name": "stdout",
     "output_type": "stream",
     "text": [
      "Corr Value = 0.6889, p-value = 0.0000\n"
     ]
    }
   ],
   "source": [
    "test_statistics, pvalue = stats.spearmanr(df[\"Streamers\"],df[\"Avg_viewers\"])\n",
    "\n",
    "print('Corr Value = %.4f, p-value = %.4f' % (test_statistics, pvalue))"
   ]
  },
  {
   "cell_type": "code",
   "execution_count": 20,
   "metadata": {},
   "outputs": [
    {
     "name": "stdout",
     "output_type": "stream",
     "text": [
      "Corr Value = 0.4457, p-value = 0.0000\n"
     ]
    }
   ],
   "source": [
    "test_statistics, pvalue = stats.spearmanr(df[\"Peak_viewers\"],df[\"Peak_channels\"])\n",
    "\n",
    "print('Corr Value = %.4f, p-value = %.4f' % (test_statistics, pvalue))"
   ]
  },
  {
   "cell_type": "code",
   "execution_count": 21,
   "metadata": {},
   "outputs": [],
   "source": [
    "df['Date'] = df.apply(lambda row: datetime.strptime(f\"{int(row.Year)}-{int(row.Month)}\", '%Y-%m'),axis=1)\n",
    "df.drop(['Month','Year'], axis='columns', inplace = True)"
   ]
  },
  {
   "cell_type": "code",
   "execution_count": 22,
   "metadata": {},
   "outputs": [],
   "source": [
    "dflol = df[df[\"Game\"] == \"League of Legends\"]\n",
    "dfdota2 = df[df[\"Game\"] == \"Dota 2\"]\n",
    "dfcsgo = df[df[\"Game\"] == \"Counter-Strike: Global Offensive\"]"
   ]
  },
  {
   "cell_type": "code",
   "execution_count": 23,
   "metadata": {},
   "outputs": [],
   "source": [
    "x = [\"Rank\",\"Game\",\"Hours_watched\",\"Hours_Streamed\",\"Peak_viewers\",\"Peak_channels\",\"Streamers\",\"Avg_channels\",\"Avg_viewer_ratio\"]\n",
    "dflol.drop(x, axis = 1 , inplace = True)\n",
    "dfdota2.drop(x, axis = 1 , inplace = True)\n",
    "dfcsgo.drop(x, axis = 1 , inplace = True)"
   ]
  },
  {
   "cell_type": "code",
   "execution_count": 24,
   "metadata": {},
   "outputs": [],
   "source": [
    "dflol.columns = [\"y\" , \"ds\"]\n",
    "dfdota2.columns = [\"y\" , \"ds\"]\n",
    "dfcsgo.columns = [\"y\" , \"ds\"]"
   ]
  },
  {
   "cell_type": "code",
   "execution_count": 25,
   "metadata": {},
   "outputs": [
    {
     "data": {
      "text/html": [
       "<div>\n",
       "<style scoped>\n",
       "    .dataframe tbody tr th:only-of-type {\n",
       "        vertical-align: middle;\n",
       "    }\n",
       "\n",
       "    .dataframe tbody tr th {\n",
       "        vertical-align: top;\n",
       "    }\n",
       "\n",
       "    .dataframe thead th {\n",
       "        text-align: right;\n",
       "    }\n",
       "</style>\n",
       "<table border=\"1\" class=\"dataframe\">\n",
       "  <thead>\n",
       "    <tr style=\"text-align: right;\">\n",
       "      <th></th>\n",
       "      <th>y</th>\n",
       "      <th>ds</th>\n",
       "    </tr>\n",
       "  </thead>\n",
       "  <tbody>\n",
       "    <tr>\n",
       "      <th>0</th>\n",
       "      <td>127021</td>\n",
       "      <td>2016-01-01</td>\n",
       "    </tr>\n",
       "    <tr>\n",
       "      <th>150</th>\n",
       "      <td>134035</td>\n",
       "      <td>2016-02-01</td>\n",
       "    </tr>\n",
       "    <tr>\n",
       "      <th>350</th>\n",
       "      <td>127206</td>\n",
       "      <td>2016-03-01</td>\n",
       "    </tr>\n",
       "    <tr>\n",
       "      <th>550</th>\n",
       "      <td>122933</td>\n",
       "      <td>2016-04-01</td>\n",
       "    </tr>\n",
       "    <tr>\n",
       "      <th>750</th>\n",
       "      <td>108585</td>\n",
       "      <td>2016-05-01</td>\n",
       "    </tr>\n",
       "  </tbody>\n",
       "</table>\n",
       "</div>"
      ],
      "text/plain": [
       "          y         ds\n",
       "0    127021 2016-01-01\n",
       "150  134035 2016-02-01\n",
       "350  127206 2016-03-01\n",
       "550  122933 2016-04-01\n",
       "750  108585 2016-05-01"
      ]
     },
     "execution_count": 25,
     "metadata": {},
     "output_type": "execute_result"
    }
   ],
   "source": [
    "dflol.head()"
   ]
  },
  {
   "cell_type": "code",
   "execution_count": 26,
   "metadata": {},
   "outputs": [
    {
     "data": {
      "text/html": [
       "<div>\n",
       "<style scoped>\n",
       "    .dataframe tbody tr th:only-of-type {\n",
       "        vertical-align: middle;\n",
       "    }\n",
       "\n",
       "    .dataframe tbody tr th {\n",
       "        vertical-align: top;\n",
       "    }\n",
       "\n",
       "    .dataframe thead th {\n",
       "        text-align: right;\n",
       "    }\n",
       "</style>\n",
       "<table border=\"1\" class=\"dataframe\">\n",
       "  <thead>\n",
       "    <tr style=\"text-align: right;\">\n",
       "      <th></th>\n",
       "      <th>y</th>\n",
       "      <th>ds</th>\n",
       "    </tr>\n",
       "  </thead>\n",
       "  <tbody>\n",
       "    <tr>\n",
       "      <th>2</th>\n",
       "      <td>60815</td>\n",
       "      <td>2016-01-01</td>\n",
       "    </tr>\n",
       "    <tr>\n",
       "      <th>152</th>\n",
       "      <td>59243</td>\n",
       "      <td>2016-02-01</td>\n",
       "    </tr>\n",
       "    <tr>\n",
       "      <th>352</th>\n",
       "      <td>57288</td>\n",
       "      <td>2016-03-01</td>\n",
       "    </tr>\n",
       "    <tr>\n",
       "      <th>552</th>\n",
       "      <td>59375</td>\n",
       "      <td>2016-04-01</td>\n",
       "    </tr>\n",
       "    <tr>\n",
       "      <th>752</th>\n",
       "      <td>63009</td>\n",
       "      <td>2016-05-01</td>\n",
       "    </tr>\n",
       "  </tbody>\n",
       "</table>\n",
       "</div>"
      ],
      "text/plain": [
       "         y         ds\n",
       "2    60815 2016-01-01\n",
       "152  59243 2016-02-01\n",
       "352  57288 2016-03-01\n",
       "552  59375 2016-04-01\n",
       "752  63009 2016-05-01"
      ]
     },
     "execution_count": 26,
     "metadata": {},
     "output_type": "execute_result"
    }
   ],
   "source": [
    "dfdota2.head()"
   ]
  },
  {
   "cell_type": "code",
   "execution_count": 27,
   "metadata": {},
   "outputs": [
    {
     "data": {
      "text/html": [
       "<div>\n",
       "<style scoped>\n",
       "    .dataframe tbody tr th:only-of-type {\n",
       "        vertical-align: middle;\n",
       "    }\n",
       "\n",
       "    .dataframe tbody tr th {\n",
       "        vertical-align: top;\n",
       "    }\n",
       "\n",
       "    .dataframe thead th {\n",
       "        text-align: right;\n",
       "    }\n",
       "</style>\n",
       "<table border=\"1\" class=\"dataframe\">\n",
       "  <thead>\n",
       "    <tr style=\"text-align: right;\">\n",
       "      <th></th>\n",
       "      <th>y</th>\n",
       "      <th>ds</th>\n",
       "    </tr>\n",
       "  </thead>\n",
       "  <tbody>\n",
       "    <tr>\n",
       "      <th>1</th>\n",
       "      <td>64378</td>\n",
       "      <td>2016-01-01</td>\n",
       "    </tr>\n",
       "    <tr>\n",
       "      <th>151</th>\n",
       "      <td>64652</td>\n",
       "      <td>2016-02-01</td>\n",
       "    </tr>\n",
       "    <tr>\n",
       "      <th>351</th>\n",
       "      <td>96854</td>\n",
       "      <td>2016-03-01</td>\n",
       "    </tr>\n",
       "    <tr>\n",
       "      <th>551</th>\n",
       "      <td>99754</td>\n",
       "      <td>2016-04-01</td>\n",
       "    </tr>\n",
       "    <tr>\n",
       "      <th>753</th>\n",
       "      <td>60407</td>\n",
       "      <td>2016-05-01</td>\n",
       "    </tr>\n",
       "  </tbody>\n",
       "</table>\n",
       "</div>"
      ],
      "text/plain": [
       "         y         ds\n",
       "1    64378 2016-01-01\n",
       "151  64652 2016-02-01\n",
       "351  96854 2016-03-01\n",
       "551  99754 2016-04-01\n",
       "753  60407 2016-05-01"
      ]
     },
     "execution_count": 27,
     "metadata": {},
     "output_type": "execute_result"
    }
   ],
   "source": [
    "dfcsgo.head()"
   ]
  },
  {
   "cell_type": "code",
   "execution_count": 28,
   "metadata": {},
   "outputs": [
    {
     "name": "stderr",
     "output_type": "stream",
     "text": [
      "INFO:fbprophet:Disabling weekly seasonality. Run prophet with weekly_seasonality=True to override this.\n"
     ]
    }
   ],
   "source": [
    "m = Prophet(interval_width = 0.95 , daily_seasonality = True)\n",
    "model1 = m.fit(dflol)"
   ]
  },
  {
   "cell_type": "code",
   "execution_count": 29,
   "metadata": {},
   "outputs": [],
   "source": [
    "future = m.make_future_dataframe(periods = 16 , freq = \"M\")\n",
    "forecastlol = m.predict(future)"
   ]
  },
  {
   "cell_type": "code",
   "execution_count": 30,
   "metadata": {},
   "outputs": [
    {
     "data": {
      "text/html": [
       "<div>\n",
       "<style scoped>\n",
       "    .dataframe tbody tr th:only-of-type {\n",
       "        vertical-align: middle;\n",
       "    }\n",
       "\n",
       "    .dataframe tbody tr th {\n",
       "        vertical-align: top;\n",
       "    }\n",
       "\n",
       "    .dataframe thead th {\n",
       "        text-align: right;\n",
       "    }\n",
       "</style>\n",
       "<table border=\"1\" class=\"dataframe\">\n",
       "  <thead>\n",
       "    <tr style=\"text-align: right;\">\n",
       "      <th></th>\n",
       "      <th>ds</th>\n",
       "      <th>yhat</th>\n",
       "    </tr>\n",
       "  </thead>\n",
       "  <tbody>\n",
       "    <tr>\n",
       "      <th>66</th>\n",
       "      <td>2021-06-30</td>\n",
       "      <td>191044.610</td>\n",
       "    </tr>\n",
       "    <tr>\n",
       "      <th>67</th>\n",
       "      <td>2021-07-31</td>\n",
       "      <td>216476.182</td>\n",
       "    </tr>\n",
       "    <tr>\n",
       "      <th>68</th>\n",
       "      <td>2021-08-31</td>\n",
       "      <td>205885.436</td>\n",
       "    </tr>\n",
       "    <tr>\n",
       "      <th>69</th>\n",
       "      <td>2021-09-30</td>\n",
       "      <td>271265.356</td>\n",
       "    </tr>\n",
       "    <tr>\n",
       "      <th>70</th>\n",
       "      <td>2021-10-31</td>\n",
       "      <td>244731.412</td>\n",
       "    </tr>\n",
       "    <tr>\n",
       "      <th>71</th>\n",
       "      <td>2021-11-30</td>\n",
       "      <td>209007.485</td>\n",
       "    </tr>\n",
       "    <tr>\n",
       "      <th>72</th>\n",
       "      <td>2021-12-31</td>\n",
       "      <td>221405.393</td>\n",
       "    </tr>\n",
       "    <tr>\n",
       "      <th>73</th>\n",
       "      <td>2022-01-31</td>\n",
       "      <td>258183.464</td>\n",
       "    </tr>\n",
       "    <tr>\n",
       "      <th>74</th>\n",
       "      <td>2022-02-28</td>\n",
       "      <td>281933.764</td>\n",
       "    </tr>\n",
       "    <tr>\n",
       "      <th>75</th>\n",
       "      <td>2022-03-31</td>\n",
       "      <td>241498.182</td>\n",
       "    </tr>\n",
       "    <tr>\n",
       "      <th>76</th>\n",
       "      <td>2022-04-30</td>\n",
       "      <td>291421.749</td>\n",
       "    </tr>\n",
       "    <tr>\n",
       "      <th>77</th>\n",
       "      <td>2022-05-31</td>\n",
       "      <td>251320.233</td>\n",
       "    </tr>\n",
       "    <tr>\n",
       "      <th>78</th>\n",
       "      <td>2022-06-30</td>\n",
       "      <td>230763.682</td>\n",
       "    </tr>\n",
       "    <tr>\n",
       "      <th>79</th>\n",
       "      <td>2022-07-31</td>\n",
       "      <td>260911.387</td>\n",
       "    </tr>\n",
       "  </tbody>\n",
       "</table>\n",
       "</div>"
      ],
      "text/plain": [
       "           ds       yhat\n",
       "66 2021-06-30 191044.610\n",
       "67 2021-07-31 216476.182\n",
       "68 2021-08-31 205885.436\n",
       "69 2021-09-30 271265.356\n",
       "70 2021-10-31 244731.412\n",
       "71 2021-11-30 209007.485\n",
       "72 2021-12-31 221405.393\n",
       "73 2022-01-31 258183.464\n",
       "74 2022-02-28 281933.764\n",
       "75 2022-03-31 241498.182\n",
       "76 2022-04-30 291421.749\n",
       "77 2022-05-31 251320.233\n",
       "78 2022-06-30 230763.682\n",
       "79 2022-07-31 260911.387"
      ]
     },
     "execution_count": 30,
     "metadata": {},
     "output_type": "execute_result"
    }
   ],
   "source": [
    "forecastlol[[\"ds\" , \"yhat\"]].iloc[66:80]"
   ]
  },
  {
   "cell_type": "code",
   "execution_count": 31,
   "metadata": {},
   "outputs": [
    {
     "data": {
      "image/png": "[encoded data removed]",
      "text/plain": [
       "<Figure size 720x432 with 1 Axes>"
      ]
     },
     "metadata": {},
     "output_type": "display_data"
    }
   ],
   "source": [
    "plotlol = m.plot(forecastlol)"
   ]
  },
  {
   "cell_type": "code",
   "execution_count": 32,
   "metadata": {},
   "outputs": [
    {
     "ename": "NameError",
     "evalue": "name 'forecast' is not defined",
     "output_type": "error",
     "traceback": [
      "\u001b[1;31m---------------------------------------------------------------------------\u001b[0m",
      "\u001b[1;31mNameError\u001b[0m                                 Traceback (most recent call last)",
      "\u001b[1;32m<ipython-input-32-f54b710fcbd4>\u001b[0m in \u001b[0;36m<module>\u001b[1;34m\u001b[0m\n\u001b[1;32m----> 1\u001b[1;33m \u001b[0mplottlol\u001b[0m \u001b[1;33m=\u001b[0m \u001b[0mm\u001b[0m\u001b[1;33m.\u001b[0m\u001b[0mplot_components\u001b[0m\u001b[1;33m(\u001b[0m\u001b[0mforecast\u001b[0m\u001b[1;33m)\u001b[0m\u001b[1;33m\u001b[0m\u001b[1;33m\u001b[0m\u001b[0m\n\u001b[0m",
      "\u001b[1;31mNameError\u001b[0m: name 'forecast' is not defined"
     ]
    }
   ],
   "source": [
    "plottlol = m.plot_components(forecast)"
   ]
  },
  {
   "cell_type": "code",
   "execution_count": null,
   "metadata": {},
   "outputs": [],
   "source": [
    "n = Prophet(interval_width = 0.95 , daily_seasonality = True)\n",
    "model2 = n.fit(dfdota2)"
   ]
  },
  {
   "cell_type": "code",
   "execution_count": null,
   "metadata": {},
   "outputs": [],
   "source": [
    "forecastdota2 = n.predict(future)"
   ]
  },
  {
   "cell_type": "code",
   "execution_count": null,
   "metadata": {},
   "outputs": [],
   "source": [
    "forecastdota2[[\"ds\" , \"yhat\"]].iloc[66:80]"
   ]
  },
  {
   "cell_type": "code",
   "execution_count": null,
   "metadata": {},
   "outputs": [],
   "source": [
    "plotdota2 = n.plot(forecastdota2)"
   ]
  },
  {
   "cell_type": "code",
   "execution_count": null,
   "metadata": {},
   "outputs": [],
   "source": [
    "plottdota2 = n.plot_components(forecastdota2)"
   ]
  },
  {
   "cell_type": "code",
   "execution_count": null,
   "metadata": {},
   "outputs": [],
   "source": [
    "b = Prophet(interval_width = 0.95 , daily_seasonality = True)\n",
    "model3 = b.fit(dfcsgo)"
   ]
  },
  {
   "cell_type": "code",
   "execution_count": null,
   "metadata": {},
   "outputs": [],
   "source": [
    "forecastcsgo = b.predict(future)"
   ]
  },
  {
   "cell_type": "code",
   "execution_count": null,
   "metadata": {},
   "outputs": [],
   "source": [
    "forecastcsgo[[\"ds\" , \"yhat\"]].iloc[66:80]"
   ]
  },
  {
   "cell_type": "code",
   "execution_count": null,
   "metadata": {},
   "outputs": [],
   "source": [
    "plotcsgo = b.plot(forecastcsgo)"
   ]
  },
  {
   "cell_type": "code",
   "execution_count": null,
   "metadata": {},
   "outputs": [],
   "source": [
    "plottcsgo = b.plot_components(forecastcsgo)"
   ]
  },
  {
   "cell_type": "code",
   "execution_count": null,
   "metadata": {},
   "outputs": [],
   "source": [
    "## end"
   ]
  }
 ],
 "metadata": {
  "kernelspec": {
   "display_name": "Python 3",
   "language": "python",
   "name": "python3"
  },
  "language_info": {
   "codemirror_mode": {
    "name": "ipython",
    "version": 3
   },
   "file_extension": ".py",
   "mimetype": "text/x-python",
   "name": "python",
   "nbconvert_exporter": "python",
   "pygments_lexer": "ipython3",
   "version": "3.8.5"
  }
 },
 "nbformat": 4,
 "nbformat_minor": 4
}
